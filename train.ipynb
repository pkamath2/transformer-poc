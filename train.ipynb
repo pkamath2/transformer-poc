{
 "cells": [
  {
   "cell_type": "code",
   "execution_count": 3,
   "metadata": {},
   "outputs": [],
   "source": [
    "from util import d, here, tic, toc\n",
    "from NSynthDataSet_RawAudio import NSynthDataSet_RawAudio\n",
    "from transformers import GTransformer\n",
    "\n",
    "import torch\n",
    "from torch import nn\n",
    "from torch.autograd import Variable\n",
    "import torch.nn.functional as F\n",
    "import torch.distributions as dist\n",
    "from torch.utils.data import RandomSampler\n",
    "\n",
    "import numpy as np\n",
    "import matplotlib.pyplot as plt\n",
    "import soundfile as sf\n",
    "import librosa\n",
    "\n",
    "from argparse import ArgumentParser\n",
    "\n",
    "import random, sys, math, gzip, os\n",
    "from tqdm import tqdm"
   ]
  },
  {
   "cell_type": "code",
   "execution_count": 4,
   "metadata": {},
   "outputs": [],
   "source": [
    "base_data_dir = '/home/purnima/appdir/Github/DATA/NSynth/'\n",
    "train_data_dir = os.path.join(base_data_dir,'nsynth-train','audio')\n",
    "test_data_dir = os.path.join(base_data_dir,'nsynth-test','audio')\n",
    "validate_data_dir = os.path.join(base_data_dir,'nsynth-valid','audio')\n",
    "\n",
    "labels_dir = '/home/purnima/appdir/Github/DATA/NSynth'\n",
    "labels_file_name = 'examples.json'\n",
    "# labels_file_name = 'examples-subset-full-acoustic-3000.json'\n",
    "\n",
    "labels_train_dir = os.path.join(labels_dir,'nsynth-train', labels_file_name)\n",
    "labels_test_dir = os.path.join(labels_dir,'nsynth-test', labels_file_name)\n",
    "labels_validate_dir = os.path.join(labels_dir,'nsynth-valid', labels_file_name)"
   ]
  },
  {
   "cell_type": "code",
   "execution_count": 5,
   "metadata": {},
   "outputs": [],
   "source": [
    "### Constants \n",
    "\n",
    "sample_rate = 16000\n",
    "\n",
    "batch_size = 16\n",
    "lr = 0.001\n",
    "lr_warmup = 5000\n",
    "epochs = 100\n",
    "\n",
    "sample_length = 512 # For context\n",
    "embedding_size = 128 \n",
    "num_heads = 8 # Number of chunks for 'parallel/ensemble' computation\n",
    "depth = 12 # Number of transformer layers\n",
    "num_tokens = 256 #Size of the dictionary"
   ]
  },
  {
   "cell_type": "markdown",
   "metadata": {},
   "source": [
    "### NSynth Dataset\n",
    "Wav files for **guitar** instrument with pitch values from **40** to **88** are chosen. This selection leads to an initial dataset size of *15270* files. \n",
    "\n",
    "Each file can be sampled randomly 4 times between approximately 1 - 3 second timestamps to extract input and target of ***sample_length*** (currently 512) resulting in a total dataset size of ***15270 * 4 = 61080***\n",
    "\n",
    "For each dataset.__getitem__ (one record of the dataset) if the input starts at 1 second time stamp (i.e. starting from 16000th sample) the target refers to samples starting from the 16001th sample. The samples are mu-law encoded and the results are shifted/adjusted to lie in between 0 to 255. \n",
    "\n",
    "Relevant constants:  \n",
    "```\n",
    "sample_rate = 16000  \n",
    "batch_size = 16  \n",
    "sample_length = 512 #(context)\n",
    "```"
   ]
  },
  {
   "cell_type": "code",
   "execution_count": 6,
   "metadata": {},
   "outputs": [
    {
     "name": "stdout",
     "output_type": "stream",
     "text": [
      "(61080, 14)\n",
      "(1116, 14)\n"
     ]
    }
   ],
   "source": [
    "train_ds = NSynthDataSet_RawAudio(meta_data_file=labels_train_dir, audio_dir=train_data_dir, sr=sample_rate)\n",
    "train_loader = torch.utils.data.DataLoader(train_ds, batch_size=batch_size, shuffle=True)\n",
    "\n",
    "test_ds = NSynthDataSet_RawAudio(meta_data_file=labels_test_dir, audio_dir=test_data_dir, sr=sample_rate)\n",
    "test_loader = torch.utils.data.DataLoader(test_ds, batch_size=batch_size, shuffle=False)\n",
    "\n",
    "# Validate dataset is not used at the moment.\n",
    "# validate_ds = NSynthDataSet_RawAudio(meta_data_file=labels_validate_dir, audio_dir=validate_data_dir, sr=sample_rate)\n",
    "# validate_loader = torch.utils.data.DataLoader(validate_ds, batch_size=batch_size, shuffle=False)"
   ]
  },
  {
   "cell_type": "code",
   "execution_count": 7,
   "metadata": {},
   "outputs": [],
   "source": [
    "def save_model(epoch, model, opt, loss, model_location):\n",
    "    torch.save({\n",
    "        'epoch': epoch,\n",
    "        'model_state_dict': model.state_dict(),\n",
    "        'optimizer_state_dict': opt.state_dict(),\n",
    "        'loss': loss,\n",
    "        }, model_location) \n",
    "    print('Saved Model', flush=True)"
   ]
  },
  {
   "cell_type": "markdown",
   "metadata": {},
   "source": [
    "### Define and Instantiate Transformer\n",
    "  \n",
    "Transformer architecture:  \n",
    "1. 'Word' embedding layer (to convert each sample in audio to its embedding_size vector)\n",
    "2. 'Position' embedding layer (to assign each sample a position - currently this is index of the sample in the array)\n",
    "3. Sum of 'Word' and 'Position' embedding\n",
    "4. Sequential Transformer Blocks `depth` layers in number.\n",
    "5. Single Linear layer\n",
    "6. Log softmax (We are using Negative Log Likelihood loss function which needs log probabilities)\n",
    "\n",
    "Relevant constants (defined previously):   \n",
    "```\n",
    "sample_length = 512 #For context\n",
    "embedding_size = 128 \n",
    "num_heads = 8\n",
    "depth = 12 #Number of transformer blocks in Sequential\n",
    "num_tokens = 256 #Dictionary size. In our case levels from our companding. \n",
    "```\n",
    "\n",
    "Our sequence is of length 512 samples. Output shapes from each layer --  \n",
    "  \n",
    "* Input to the model = `batch_size X sample_length` i.e. 16 X 512  \n",
    "* Output from 'Word' embedding = `batch_size X sample_length X embedding_size` i.e. 16 X 512 X 128  \n",
    "* Output from 'Position' embedding = `batch_size X sample_length X embedding_size` i.e. 16 X 512 X 128 (128 vector embedding for index position of each sample from 0 - 511)  \n",
    "* Output from 'Word' + 'Position' embedding = `batch_size X sample_length X embedding_size` i.e. 16 X 512 X 128 (sum and not concat)  \n",
    "* Output from Transformer Sequential Blocks = `batch_size X sample_length X embedding_size` i.e. 16 X 512 X 128  \n",
    "* Output from Linear Layer (in preparation of the softmax layer) = `batch_size X sample_length X num_tokens` (or dictionary size) i.e. 16 X 512 X 256  \n",
    "* Output from Log softmax = `batch_size X sample_length X num_tokens` i.e. 16 X 512 X 256  "
   ]
  },
  {
   "cell_type": "code",
   "execution_count": 8,
   "metadata": {},
   "outputs": [],
   "source": [
    "model = GTransformer(emb=embedding_size, heads=num_heads, depth=depth, seq_length=sample_length, num_tokens=num_tokens, attention_type=None)\n",
    "model = model.cuda()\n",
    "\n",
    "opt = torch.optim.Adam(lr=lr, params=model.parameters())\n",
    "sch = torch.optim.lr_scheduler.LambdaLR(opt, lambda i: min(i / (lr_warmup / batch_size), 1.0))\n",
    "loss = torch.nn.NLLLoss(reduction='mean')"
   ]
  },
  {
   "cell_type": "markdown",
   "metadata": {},
   "source": [
    "## Training Loss Function\n",
    "\n",
    "The NLL loss or Negative log likelihood accepts an input of log-probabilities of each 'class' (typically outputs from a log softmax function) of shape `batch_size X num_classes X input_dim` or in our case `batch_size X num_tokens X sample_length`   \n",
    "\n",
    "See: https://pytorch.org/docs/stable/generated/torch.nn.NLLLoss.html#torch.nn.NLLLoss"
   ]
  },
  {
   "cell_type": "code",
   "execution_count": 9,
   "metadata": {},
   "outputs": [],
   "source": [
    "def train():\n",
    "    training_loss = 0.0\n",
    "    for batch_idx, (data, target) in enumerate(tqdm(train_loader)):\n",
    "        opt.zero_grad()\n",
    "        data = data.cuda()\n",
    "        target = target.cuda()\n",
    "\n",
    "        output = model(data)\n",
    "        running_loss = loss(output.transpose(2, 1), target)\n",
    "        training_loss += running_loss.item()\n",
    "\n",
    "        running_loss.backward() # backward pass\n",
    "\n",
    "        opt.step() # stochastic gradient descent step\n",
    "        sch.step() # update the learning rate\n",
    "    \n",
    "    training_loss /= len(train_loader)\n",
    "    return training_loss\n",
    "\n",
    "def test():\n",
    "    model.eval()\n",
    "    testing_loss = 0.0\n",
    "    with torch.no_grad():\n",
    "        for batch_idx, (data, target) in enumerate(tqdm(test_loader, desc='Testing')):\n",
    "\n",
    "            data = data.cuda()\n",
    "            target = target.cuda()\n",
    "\n",
    "            output = model(data)\n",
    "\n",
    "            running_loss = loss(output.transpose(2, 1), target)\n",
    "            testing_loss += running_loss.item()\n",
    "\n",
    "    # # To improve legibility only one loss norm is plotted for an epoch (Goodfellow - pg 276 diag 8.1)\n",
    "    testing_loss /= len(test_loader)\n",
    "    return testing_loss\n"
   ]
  },
  {
   "cell_type": "code",
   "execution_count": null,
   "metadata": {},
   "outputs": [
    {
     "name": "stderr",
     "output_type": "stream",
     "text": [
      "100%|██████████| 3818/3818 [08:47<00:00,  7.24it/s]\n",
      "Testing: 100%|██████████| 70/70 [00:03<00:00, 22.38it/s]\n"
     ]
    },
    {
     "data": {
      "image/png": "[encoded data removed]",
      "text/plain": [
       "<Figure size 720x360 with 2 Axes>"
      ]
     },
     "metadata": {
      "needs_background": "light"
     },
     "output_type": "display_data"
    },
    {
     "name": "stdout",
     "output_type": "stream",
     "text": [
      "Saved Model\n"
     ]
    },
    {
     "name": "stderr",
     "output_type": "stream",
     "text": [
      "100%|██████████| 3818/3818 [08:45<00:00,  7.27it/s]\n",
      "100%|██████████| 3818/3818 [08:45<00:00,  7.27it/s]\n",
      "100%|██████████| 3818/3818 [08:46<00:00,  7.26it/s]\n",
      "100%|██████████| 3818/3818 [08:47<00:00,  7.24it/s]\n",
      "100%|██████████| 3818/3818 [08:46<00:00,  7.26it/s]\n",
      "Testing: 100%|██████████| 70/70 [00:03<00:00, 22.52it/s]\n"
     ]
    },
    {
     "data": {
      "image/png": "[encoded data removed]",
      "text/plain": [
       "<Figure size 720x360 with 2 Axes>"
      ]
     },
     "metadata": {
      "needs_background": "light"
     },
     "output_type": "display_data"
    },
    {
     "name": "stdout",
     "output_type": "stream",
     "text": [
      "Saved Model\n"
     ]
    },
    {
     "name": "stderr",
     "output_type": "stream",
     "text": [
      "100%|██████████| 3818/3818 [08:45<00:00,  7.26it/s]\n",
      "100%|██████████| 3818/3818 [08:47<00:00,  7.24it/s]\n",
      "100%|██████████| 3818/3818 [08:26<00:00,  7.53it/s]\n",
      "100%|██████████| 3818/3818 [08:26<00:00,  7.54it/s]\n",
      "100%|██████████| 3818/3818 [08:14<00:00,  7.72it/s]\n",
      "Testing: 100%|██████████| 70/70 [00:02<00:00, 23.89it/s]\n"
     ]
    },
    {
     "data": {
      "image/png": "[encoded data removed]",
      "text/plain": [
       "<Figure size 720x360 with 2 Axes>"
      ]
     },
     "metadata": {
      "needs_background": "light"
     },
     "output_type": "display_data"
    },
    {
     "name": "stdout",
     "output_type": "stream",
     "text": [
      "Saved Model\n"
     ]
    },
    {
     "name": "stderr",
     "output_type": "stream",
     "text": [
      "100%|██████████| 3818/3818 [08:09<00:00,  7.80it/s]\n",
      " 14%|█▍        | 550/3818 [01:12<07:08,  7.63it/s]"
     ]
    }
   ],
   "source": [
    "history_train = {'loss': []}\n",
    "history_test = {'loss': []}\n",
    "\n",
    "for epoch in range(epochs):\n",
    "    train_loss = train()\n",
    "    history_train['loss'].append(train_loss)\n",
    "    \n",
    "    if epoch%5 == 0 or epoch == epochs:\n",
    "        test_loss = test()\n",
    "        history_test['loss'].append(test_loss)\n",
    "        \n",
    "        fig, axes = plt.subplots(ncols=2, figsize=(, 5))\n",
    "        axes[0].plot(history_train['loss'])\n",
    "        axes[0].set_title('Train Loss')\n",
    "        axes[0].set_xlabel('epoch')\n",
    "        axes[0].set_ylabel('loss')\n",
    "        \n",
    "        axes[1].plot(history_test['loss'])\n",
    "        axes[1].set_title('Train Loss')\n",
    "        axes[1].set_xlabel('epoch')\n",
    "        axes[1].set_ylabel('loss')\n",
    "        plt.show()\n",
    "\n",
    "        save_model(epoch, model, opt, loss, f'checkpoint/attention-{epoch}.pt')"
   ]
  }
 ],
 "metadata": {
  "kernelspec": {
   "display_name": "Python [conda env:pDL] *",
   "language": "python",
   "name": "conda-env-pDL-py"
  },
  "language_info": {
   "codemirror_mode": {
    "name": "ipython",
    "version": 3
   },
   "file_extension": ".py",
   "mimetype": "text/x-python",
   "name": "python",
   "nbconvert_exporter": "python",
   "pygments_lexer": "ipython3",
   "version": "3.8.6"
  }
 },
 "nbformat": 4,
 "nbformat_minor": 4
}
